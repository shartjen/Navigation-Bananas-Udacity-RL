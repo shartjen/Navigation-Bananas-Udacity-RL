{
 "cells": [
  {
   "cell_type": "markdown",
   "metadata": {},
   "source": [
    "# Navigation(Training)\n",
    "\n",
    "---\n",
    "\n",
    "In this notebook, the Unity ML-Agents is trained to collect bananas in the environment for the first project of the [Deep Reinforcement Learning Nanodegree](https://www.udacity.com/course/deep-reinforcement-learning-nanodegree--nd893).\n",
    "\n",
    "### 1. Start the Environment\n",
    "\n",
    "We begin by importing some necessary packages.  If the code cell below returns an error, please revisit the project instructions to double-check that you have installed [Unity ML-Agents](https://github.com/Unity-Technologies/ml-agents/blob/master/docs/Installation.md) and [NumPy](http://www.numpy.org/)."
   ]
  },
  {
   "cell_type": "code",
   "execution_count": 1,
   "metadata": {},
   "outputs": [
    {
     "name": "stdout",
     "output_type": "stream",
     "text": [
      "Requirement already satisfied: box2d in c:\\programdata\\anaconda3\\envs\\drlnd\\lib\\site-packages (2.3.10)\n"
     ]
    }
   ],
   "source": [
    "from unityagents import UnityEnvironment\n",
    "import gym\n",
    "get_ipython().system('pip install box2d')\n",
    "import random\n",
    "import torch\n",
    "import numpy as np\n",
    "from collections import deque\n",
    "import matplotlib.pyplot as plt\n",
    "\n",
    "plt.ion()\n"
   ]
  },
  {
   "cell_type": "markdown",
   "metadata": {},
   "source": [
    "Next, we will start the environment!  **_Before running the code cell below_**, change the `file_name` parameter to match the location of the Unity environment that you downloaded.\n",
    "\n",
    "- **Mac**: `\"path/to/Banana.app\"`\n",
    "- **Windows** (x86): `\"path/to/Banana_Windows_x86/Banana.exe\"`\n",
    "- **Windows** (x86_64): `\"path/to/Banana_Windows_x86_64/Banana.exe\"`\n",
    "- **Linux** (x86): `\"path/to/Banana_Linux/Banana.x86\"`\n",
    "- **Linux** (x86_64): `\"path/to/Banana_Linux/Banana.x86_64\"`\n",
    "- **Linux** (x86, headless): `\"path/to/Banana_Linux_NoVis/Banana.x86\"`\n",
    "- **Linux** (x86_64, headless): `\"path/to/Banana_Linux_NoVis/Banana.x86_64\"`\n",
    "\n",
    "For instance, if you are using a Mac, then you downloaded `Banana.app`.  If this file is in the same folder as the notebook, then the line below should appear as follows:\n",
    "```\n",
    "env = UnityEnvironment(file_name=\"Banana.app\")\n",
    "```"
   ]
  },
  {
   "cell_type": "code",
   "execution_count": 2,
   "metadata": {},
   "outputs": [
    {
     "name": "stderr",
     "output_type": "stream",
     "text": [
      "INFO:unityagents:\n",
      "'Academy' started successfully!\n",
      "Unity Academy name: Academy\n",
      "        Number of Brains: 1\n",
      "        Number of External Brains : 1\n",
      "        Lesson number : 0\n",
      "        Reset Parameters :\n",
      "\t\t\n",
      "Unity brain name: BananaBrain\n",
      "        Number of Visual Observations (per agent): 0\n",
      "        Vector Observation space type: continuous\n",
      "        Vector Observation space size (per agent): 37\n",
      "        Number of stacked Vector Observation: 1\n",
      "        Vector Action space type: discrete\n",
      "        Vector Action space size (per agent): 4\n",
      "        Vector Action descriptions: , , , \n"
     ]
    }
   ],
   "source": [
    "env = UnityEnvironment(file_name=\"Banana_Windows_x86_64/Banana.exe\",no_graphics=True)"
   ]
  },
  {
   "cell_type": "markdown",
   "metadata": {},
   "source": [
    "Environments contain **_brains_** which are responsible for deciding the actions of their associated agents. Here we check for the first brain available, and set it as the default brain we will be controlling from Python."
   ]
  },
  {
   "cell_type": "code",
   "execution_count": 3,
   "metadata": {},
   "outputs": [
    {
     "name": "stdout",
     "output_type": "stream",
     "text": [
      "BananaBrain\n"
     ]
    }
   ],
   "source": [
    "# get the default brain\n",
    "brain_name = env.brain_names[0]\n",
    "brain = env.brains[brain_name]\n",
    "print(brain_name)"
   ]
  },
  {
   "cell_type": "markdown",
   "metadata": {},
   "source": [
    "### 2. Examine the State and Action Spaces\n",
    "\n",
    "The simulation contains a single agent that navigates a large environment.  At each time step, it has four actions at its disposal:\n",
    "- `0` - walk forward \n",
    "- `1` - walk backward\n",
    "- `2` - turn left\n",
    "- `3` - turn right\n",
    "\n",
    "The state space has `37` dimensions and contains the agent's velocity, along with ray-based perception of objects around agent's forward direction.  A reward of `+1` is provided for collecting a yellow banana, and a reward of `-1` is provided for collecting a blue banana. \n",
    "\n",
    "Run the code cell below to print some information about the environment."
   ]
  },
  {
   "cell_type": "code",
   "execution_count": 4,
   "metadata": {
    "scrolled": true
   },
   "outputs": [
    {
     "name": "stdout",
     "output_type": "stream",
     "text": [
      "Number of agents: 1\n",
      "Number of actions: 4\n",
      "States look like: [1.         0.         0.         0.         0.84408134 0.\n",
      " 0.         1.         0.         0.0748472  0.         1.\n",
      " 0.         0.         0.25755    1.         0.         0.\n",
      " 0.         0.74177343 0.         1.         0.         0.\n",
      " 0.25854847 0.         0.         1.         0.         0.09355672\n",
      " 0.         1.         0.         0.         0.31969345 0.\n",
      " 0.        ]\n",
      "States have length: 37\n"
     ]
    }
   ],
   "source": [
    "# reset the environment\n",
    "env_info = env.reset(train_mode=True)[brain_name]\n",
    "\n",
    "# number of agents in the environment\n",
    "print('Number of agents:', len(env_info.agents))\n",
    "\n",
    "# number of actions\n",
    "action_size = brain.vector_action_space_size\n",
    "print('Number of actions:', action_size)\n",
    "\n",
    "# examine the state space \n",
    "state = env_info.vector_observations[0]\n",
    "print('States look like:', state)\n",
    "state_size = len(state)\n",
    "print('States have length:', state_size)"
   ]
  },
  {
   "cell_type": "markdown",
   "metadata": {},
   "source": [
    "### 3. Training an Agent\n",
    "\n",
    "This code is training the RL agent. When all AlhpaRun, BetaRun, ... flags are set to false line 107 is run to train an agent for a single set of hyperparameters. The number of episodes to run is specified in line 12 as n_episodes.\n",
    "To test over a grid of one hyperparameter, the grid can be set in alpha_range, etc. setting AlphaRun to True. The current configuration of hyperparameters supplied the fastest learning on average over multiple runs.\n",
    "\n",
    "#### Further options\n",
    "DoProfile: Profiling for a single run can be enabled when doing a single run setting DoProfile to True<br>\n",
    "DoPER: Prioritized experience replay(PER) can be enabled setting DoPER to True, though I could not discover stable performance gains in learning. It is likely that use of PER is not helpful for this environment, coompared to simple experience replay."
   ]
  },
  {
   "cell_type": "code",
   "execution_count": 5,
   "metadata": {
    "scrolled": false
   },
   "outputs": [
    {
     "name": "stdout",
     "output_type": "stream",
     "text": [
      "Active Device :  cpu\n",
      "Episode 100\tAverage Score: 0.78 || NumSteps : 299 || Memory : 30000 || Ep_Time : 0.84291\n",
      "Episode 200\tAverage Score: 4.48 || NumSteps : 299 || Memory : 60000 || Ep_Time : 0.91120\n",
      "Episode 300\tAverage Score: 8.30 || NumSteps : 299 || Memory : 90000 || Ep_Time : 0.93574\n",
      "Episode 400\tAverage Score: 9.47 || NumSteps : 299 || Memory : 100000 || Ep_Time : 0.86664\n",
      "Episode 500\tAverage Score: 11.95 || NumSteps : 299 || Memory : 100000 || Ep_Time : 0.83295\n",
      "Episode 600\tAverage Score: 13.57 || NumSteps : 299 || Memory : 100000 || Ep_Time : 0.85699\n",
      "Episode 700\tAverage Score: 14.36 || NumSteps : 299 || Memory : 100000 || Ep_Time : 0.92746\n",
      "Episode 800\tAverage Score: 15.05 || NumSteps : 299 || Memory : 100000 || Ep_Time : 0.80660\n",
      "Episode 900\tAverage Score: 15.63 || NumSteps : 299 || Memory : 100000 || Ep_Time : 0.92614\n",
      "DQN done.\n"
     ]
    }
   ],
   "source": [
    "DoProfile = False\n",
    "DoPrintMem = False\n",
    "DoPER = False\n",
    "\n",
    "if not DoPER:from dqn_agent import Agent\n",
    "else:from dqn_agent_per import AgentPER\n",
    "    \n",
    "import time\n",
    "import cProfile\n",
    "\n",
    "\n",
    "def dqn(alpha,beta,gamma,tau,LR,batch_size,buffer_size,n_episodes=900, max_t=800, eps_start=1.0, eps_end=0.01, eps_decay=0.995):\n",
    "    \"\"\"Deep Q-Learning.\n",
    "    \n",
    "    Params\n",
    "    ======\n",
    "        n_episodes (int): maximum number of training episodes\n",
    "        max_t (int): maximum number of timesteps per episode\n",
    "        eps_start (float): starting value of epsilon, for epsilon-greedy action selection\n",
    "        eps_end (float): minimum value of epsilon\n",
    "        eps_decay (float): multiplicative factor (per episode) for decreasing epsilon\n",
    "    \"\"\"\n",
    "    \n",
    "    if not DoPER:agent = Agent(alpha,beta,gamma,tau,LR,batch_size,state_size=state_size, action_size=action_size, seed=0, buffer_size = buffer_size)\n",
    "    else:agent = AgentPER(alpha,beta,gamma,tau,LR,batch_size,state_size=state_size, action_size=action_size, seed=0, buffer_size = buffer_size)\n",
    "        \n",
    "    print('Active Device : ',agent.device)\n",
    "\n",
    "    scores = []                        # list containing scores from each episode\n",
    "    scores_window = deque(maxlen=100)  # last 100 scores\n",
    "    eps = eps_start                    # initialize epsilon\n",
    "    \n",
    "    for i_episode in range(1, n_episodes+1):\n",
    "        # print('   ------   Memory Length = ',len(agent.memory))\n",
    "        env_info = env.reset(train_mode=True)[brain_name] # reset the environment\n",
    "        state = env_info.vector_observations[0]            # get the current state\n",
    "        score = 0\n",
    "        \n",
    "        tic = time.perf_counter()\n",
    "        for t in range(max_t):\n",
    "            action = agent.act(state, eps)\n",
    "            # print('------------------------------------------')\n",
    "            # print('Take action : {} (step {} in epsiode: {}) -- PER : {} '.format(action,t,i_episode,len(agent.memory))) #,action,' in t = ',t, ,i_episode,') brain is : ',brain_name, ' type(action)', type(action))\n",
    "            env_info = env.step(action)[brain_name]        # send the action to the environment\n",
    "            next_state = env_info.vector_observations[0]   # get the next state\n",
    "            reward = env_info.rewards[0]                   # get the reward\n",
    "            done = env_info.local_done[0]                  # see if episode has finished\n",
    "            agent.step(state, action, reward, next_state, done)\n",
    "            state = next_state\n",
    "            score += reward\n",
    "            if done:\n",
    "                break \n",
    "                \n",
    "        if DoPrintMem:agent.mem_print_summary()\n",
    "                \n",
    "        scores_window.append(score)       # save most recent score\n",
    "        scores.append(score)              # save most recent score\n",
    "        eps = max(eps_end, eps_decay*eps) # decrease epsilon\n",
    "\n",
    "        toc = time.perf_counter()\n",
    "        # print('------------------------------------------')\n",
    "        # print('------------------------------------------')\n",
    "        # print('Episode {}\\tAverage Score: {:.2f} || NumSteps : {} || Memory : {} || Ep_Time : {:7.5f}'.format(i_episode, np.mean(scores_window),t,len(agent.memory),toc-tic))\n",
    "        # agent.memory.mem_print_summary()\n",
    "        # print('Episode took {} seconds'.format(toc-tic))\n",
    "        print('\\rEpisode {}\\tAverage Score: {:.2f} || NumSteps : {} || Memory : {} || Ep_Time : {:7.5f}'.format(i_episode, np.mean(scores_window),t,len(agent.memory),toc-tic), end=\"\")\n",
    "        if i_episode % 100 == 0:\n",
    "            print('\\rEpisode {}\\tAverage Score: {:.2f} || NumSteps : {} || Memory : {} || Ep_Time : {:7.5f}'.format(i_episode, np.mean(scores_window),t,len(agent.memory),toc-tic))\n",
    "        # for t\n",
    "    # for episode\n",
    "            \n",
    "    print('DQN done.')\n",
    "            \n",
    "    return scores,agent\n",
    "\n",
    "alpha = 0.5\n",
    "beta = 0.6\n",
    "gamma = 0.98\n",
    "tau = 0.001\n",
    "LR = 0.0005\n",
    "batch_size = 64\n",
    "buffer_size = 100000\n",
    "inside = 1   # Number of runs in the inside loop for hparam exploration\n",
    "\n",
    "alpha_range = [0.3,0.5,0.7,0.8,0.9]\n",
    "beta_range = [0.3,0.5,0.7,0.8,0.9]\n",
    "gamma_range = [0.98] #[0.95,0.96,0.97,0.98,0.99]\n",
    "tau_range = [0.0003,0.0006,0.001,0.002,0.003,0.005]\n",
    "LR_range = [0.0001,0.0003,0.0005,0.0008,0.001]\n",
    "batch_range = [16,32,64,96,128]\n",
    "buffer_range = [br*10000 for br in [1,2,3,5,7,10,15,20]]\n",
    "\n",
    "AlphaRun = False\n",
    "BetaRun = False\n",
    "GammaRun = False\n",
    "TauRun = False\n",
    "LRRun = False\n",
    "BatchRun = False\n",
    "BufferRun = False\n",
    "AnyRun = AlphaRun or GammaRun or TauRun or LRRun or BatchRun or BufferRun\n",
    "\n",
    "# Single Run\n",
    "if not AnyRun:\n",
    "    if DoProfile: \n",
    "        cProfile.run('scores, agent = dqn(alpha,beta,gamma,tau,LR,batch_size,buffer_size)','ProfStats')\n",
    "    else:\n",
    "        scores, agent = dqn(alpha,beta,gamma,tau,LR,batch_size,buffer_size)\n",
    "\n",
    "# Running over different parameters as indicated by xRun flags\n",
    "if AlphaRun:\n",
    "    olda = alpha\n",
    "    for g in alpha_range:\n",
    "        alpha = g\n",
    "        for g2 in np.arange(inside):\n",
    "            print('Alpha : ',alpha)\n",
    "            scores,agent = dqn(alpha,beta,gamma,tau,LR,batch_size,buffer_size)\n",
    "        alpha = olda\n",
    "\n",
    "if BetaRun:\n",
    "    oldb = beta\n",
    "    for g in beta_range:\n",
    "        beta = g\n",
    "        for g2 in np.arange(inside):\n",
    "            print('Beta : ',beta)\n",
    "            scores,agent = dqn(alpha,beta,gamma,tau,LR,batch_size,buffer_size)\n",
    "        alpha = olda\n",
    "\n",
    "if GammaRun:\n",
    "    oldg = gamma\n",
    "    for g in gamma_range:\n",
    "        gamma = g\n",
    "        for g2 in np.arange(inside):\n",
    "            print('Gamma : ',gamma)\n",
    "            scores = dqn(alpha,beta,gamma,tau,LR,batch_size,buffer_size)\n",
    "        gamma = oldg\n",
    "\n",
    "if TauRun:\n",
    "    oldt = tau\n",
    "    for g in tau_range:\n",
    "        tau = g\n",
    "        for g2 in np.arange(inside):\n",
    "            print('tau : ',tau)\n",
    "            scores = dqn(gamma,tau,LR,batch_size,buffer_size)\n",
    "    tau = oldt\n",
    "\n",
    "if LRRun:\n",
    "    oldl = LR\n",
    "    for g in LR_range:\n",
    "        LR = g\n",
    "        for g2 in np.arange(inside):\n",
    "            print('LR : ',LR)\n",
    "            scores = dqn(gamma,tau,LR,batch_size,buffer_size)\n",
    "    LR = oldl\n",
    "\n",
    "if BatchRun:\n",
    "    oldbs = batch_size\n",
    "    for g in batch_range:\n",
    "        batch_size = g\n",
    "        for g2 in np.arange(inside):\n",
    "            print('batch_size : ',batch_size)\n",
    "            scores = dqn(gamma,tau,LR,batch_size,buffer_size)\n",
    "    batch_size = oldbs\n",
    "\n",
    "if BufferRun:\n",
    "    oldbs = buffer_size\n",
    "    for g in buffer_range:\n",
    "        buffer_size = g\n",
    "        for g2 in np.arange(inside):\n",
    "            print('buffer_size : ',buffer_size)\n",
    "            scores = dqn(gamma,tau,LR,batch_size,buffer_size)\n",
    "    buffer_size = oldbs\n"
   ]
  },
  {
   "cell_type": "markdown",
   "metadata": {},
   "source": [
    "When finished, you can close the environment. Plot scores over learning time and plot statistics for deltaQs for PER"
   ]
  },
  {
   "cell_type": "code",
   "execution_count": 12,
   "metadata": {},
   "outputs": [
    {
     "data": {
      "image/png": "[encoded data removed]",
      "text/plain": [
       "<Figure size 432x288 with 1 Axes>"
      ]
     },
     "metadata": {
      "needs_background": "light"
     },
     "output_type": "display_data"
    }
   ],
   "source": [
    "# env.close()\n",
    "\n",
    "# torch.save(agent.qnetwork_local.state_dict(), 'trained_banana_hunter.pth')\n",
    "\n",
    "if DoPrintMem:AllQ, AllP = agent.mem_print_summary()\n",
    "# print(len(AllQ))\n",
    "# print(len(AllP))\n",
    "# AllQ, AllP = agent.memory.mem_print_summary()\n",
    "# print('Standard-Deviation of deltaQs',np.std(AllQ))\n",
    "\n",
    "# plot the scores\n",
    "if True:\n",
    "    fig = plt.figure()\n",
    "    ax = fig.add_subplot(111)\n",
    "    plt.plot(np.arange(len(scores)), scores)\n",
    "    plt.ylabel('Score')\n",
    "    plt.xlabel('Episode #')\n",
    "    plt.savefig('BananaScores.pdf')  \n",
    "    plt.show()\n",
    "    \n",
    "if DoPER:\n",
    "    fig = plt.figure()\n",
    "    ax = fig.add_subplot(111)\n",
    "    plt.hist(AllQ, bins = 200)\n",
    "    plt.ylabel('Score')\n",
    "    plt.xlabel('Episode #')\n",
    "    plt.show()\n",
    "\n"
   ]
  },
  {
   "cell_type": "code",
   "execution_count": null,
   "metadata": {},
   "outputs": [],
   "source": []
  }
 ],
 "metadata": {
  "kernelspec": {
   "display_name": "Python 3",
   "language": "python",
   "name": "python3"
  },
  "language_info": {
   "codemirror_mode": {
    "name": "ipython",
    "version": 3
   },
   "file_extension": ".py",
   "mimetype": "text/x-python",
   "name": "python",
   "nbconvert_exporter": "python",
   "pygments_lexer": "ipython3",
   "version": "3.6.10"
  }
 },
 "nbformat": 4,
 "nbformat_minor": 2
}
